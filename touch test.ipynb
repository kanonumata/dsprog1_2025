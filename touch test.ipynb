{
 "cells": [
  {
   "cell_type": "code",
   "execution_count": null,
   "id": "3c823300",
   "metadata": {},
   "outputs": [],
   "source": [
    "import requests\n",
    "from "
   ]
  },
  {
   "cell_type": "code",
   "execution_count": 3,
   "id": "5bea64f6",
   "metadata": {},
   "outputs": [
    {
     "ename": "NameError",
     "evalue": "name 'requests' is not defined",
     "output_type": "error",
     "traceback": [
      "\u001b[31m---------------------------------------------------------------------------\u001b[39m",
      "\u001b[31mNameError\u001b[39m                                 Traceback (most recent call last)",
      "\u001b[36mCell\u001b[39m\u001b[36m \u001b[39m\u001b[32mIn[3]\u001b[39m\u001b[32m, line 3\u001b[39m\n\u001b[32m      1\u001b[39m url = \u001b[33m'\u001b[39m\u001b[33mhttps://www.musashino-u.ac.jp/\u001b[39m\u001b[33m'\u001b[39m\n\u001b[32m----> \u001b[39m\u001b[32m3\u001b[39m res = \u001b[43mrequests\u001b[49m.get(url)\n",
      "\u001b[31mNameError\u001b[39m: name 'requests' is not defined"
     ]
    }
   ],
   "source": [
    "url = 'https://www.musashino-u.ac.jp/'\n",
    "\n",
    "res = requests.get(url)"
   ]
  },
  {
   "cell_type": "code",
   "execution_count": null,
   "id": "4ebc7039",
   "metadata": {},
   "outputs": [
    {
     "ename": "NameError",
     "evalue": "name 'res' is not defined",
     "output_type": "error",
     "traceback": [
      "\u001b[31m---------------------------------------------------------------------------\u001b[39m",
      "\u001b[31mNameError\u001b[39m                                 Traceback (most recent call last)",
      "\u001b[36mCell\u001b[39m\u001b[36m \u001b[39m\u001b[32mIn[1]\u001b[39m\u001b[32m, line 1\u001b[39m\n\u001b[32m----> \u001b[39m\u001b[32m1\u001b[39m \u001b[38;5;28mprint\u001b[39m(\u001b[33mf\u001b[39m\u001b[33m\"\u001b[39m\u001b[33mレスポンス：\u001b[39m\u001b[38;5;132;01m{\u001b[39;00m\u001b[43mres\u001b[49m\u001b[38;5;132;01m}\u001b[39;00m\u001b[33m\"\u001b[39m)\n\u001b[32m      2\u001b[39m \u001b[38;5;28mprint\u001b[39m(\u001b[33mf\u001b[39m\u001b[33m\"\u001b[39m\u001b[33mレスポンスの型：\u001b[39m\u001b[38;5;132;01m{\u001b[39;00m\u001b[38;5;28mtype\u001b[39m(res)\u001b[38;5;132;01m}\u001b[39;00m\u001b[33m\"\u001b[39m)\n",
      "\u001b[31mNameError\u001b[39m: name 'res' is not defined"
     ]
    }
   ],
   "source": [
    "print(f\"レスポンス：{res}\")\n",
    "print(f\"レスポンスの型：{type(res)}\")\n",
    "\n",
    "print(f\"リクエスト：{res.request}\")\n",
    "print(f\"リクエストの型：{type(res.request)}\")\n",
    "\n",
    "print(f\"リクエストヘッダー：{res.request.headers}\")\n",
    "print(f\"リクエストメソッド：{res.request.method}\")\n",
    "print(f\"リクエストURL：{res.request.url}\")"
   ]
  },
  {
   "cell_type": "code",
   "execution_count": null,
   "id": "1ac77fff",
   "metadata": {},
   "outputs": [],
   "source": [
    "print(f\"レスポンスヘッダー：{res.headers}\")\n",
    "print(f\"レスポンスボディ：{res.next}\")"
   ]
  },
  {
   "cell_type": "code",
   "execution_count": null,
   "id": "4d5f269a",
   "metadata": {},
   "outputs": [],
   "source": [
    "url = \"https://www.musashino-u.ac.jp\""
   ]
  }
 ],
 "metadata": {
  "kernelspec": {
   "display_name": ".venv",
   "language": "python",
   "name": "python3"
  },
  "language_info": {
   "codemirror_mode": {
    "name": "ipython",
    "version": 3
   },
   "file_extension": ".py",
   "mimetype": "text/x-python",
   "name": "python",
   "nbconvert_exporter": "python",
   "pygments_lexer": "ipython3",
   "version": "3.12.9"
  }
 },
 "nbformat": 4,
 "nbformat_minor": 5
}
